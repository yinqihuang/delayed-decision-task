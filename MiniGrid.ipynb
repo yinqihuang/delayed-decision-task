{
  "nbformat": 4,
  "nbformat_minor": 0,
  "metadata": {
    "colab": {
      "name": "MiniGrid_YH",
      "provenance": [],
      "collapsed_sections": []
    },
    "kernelspec": {
      "name": "python3",
      "display_name": "Python 3"
    }
  },
  "cells": [
    {
      "cell_type": "markdown",
      "metadata": {
        "id": "XtIvh94ICiyx"
      },
      "source": [
        "# Install dependencies"
      ]
    },
    {
      "cell_type": "code",
      "metadata": {
        "colab": {
          "base_uri": "https://localhost:8080/"
        },
        "id": "6J5Np0g0Sp4T",
        "outputId": "49cf9738-e268-4e20-835b-68268788d641"
      },
      "source": [
        "#@title Setup\n",
        "from google.colab import drive\n",
        "drive.mount('/content/drive/')\n",
        "\n",
        "!pip3 install gym-minigrid\n",
        "!pip install tensorboardX\n",
        "!pip install -U matplotlib\n",
        "!pip3 install torch torchvision"
      ],
      "execution_count": 468,
      "outputs": [
        {
          "output_type": "stream",
          "text": [
            "Drive already mounted at /content/drive/; to attempt to forcibly remount, call drive.mount(\"/content/drive/\", force_remount=True).\n",
            "Requirement already satisfied: gym-minigrid in /usr/local/lib/python3.6/dist-packages (1.0.1)\n",
            "Requirement already satisfied: gym>=0.9.6 in /usr/local/lib/python3.6/dist-packages (from gym-minigrid) (0.17.3)\n",
            "Requirement already satisfied: numpy>=1.15.0 in /usr/local/lib/python3.6/dist-packages (from gym-minigrid) (1.18.5)\n",
            "Requirement already satisfied: cloudpickle<1.7.0,>=1.2.0 in /usr/local/lib/python3.6/dist-packages (from gym>=0.9.6->gym-minigrid) (1.3.0)\n",
            "Requirement already satisfied: pyglet<=1.5.0,>=1.4.0 in /usr/local/lib/python3.6/dist-packages (from gym>=0.9.6->gym-minigrid) (1.5.0)\n",
            "Requirement already satisfied: scipy in /usr/local/lib/python3.6/dist-packages (from gym>=0.9.6->gym-minigrid) (1.4.1)\n",
            "Requirement already satisfied: future in /usr/local/lib/python3.6/dist-packages (from pyglet<=1.5.0,>=1.4.0->gym>=0.9.6->gym-minigrid) (0.16.0)\n",
            "Requirement already satisfied: tensorboardX in /usr/local/lib/python3.6/dist-packages (2.1)\n",
            "Requirement already satisfied: numpy in /usr/local/lib/python3.6/dist-packages (from tensorboardX) (1.18.5)\n",
            "Requirement already satisfied: six in /usr/local/lib/python3.6/dist-packages (from tensorboardX) (1.15.0)\n",
            "Requirement already satisfied: protobuf>=3.8.0 in /usr/local/lib/python3.6/dist-packages (from tensorboardX) (3.12.4)\n",
            "Requirement already satisfied: setuptools in /usr/local/lib/python3.6/dist-packages (from protobuf>=3.8.0->tensorboardX) (50.3.2)\n",
            "Requirement already up-to-date: matplotlib in /usr/local/lib/python3.6/dist-packages (3.3.3)\n",
            "Requirement already satisfied, skipping upgrade: python-dateutil>=2.1 in /usr/local/lib/python3.6/dist-packages (from matplotlib) (2.8.1)\n",
            "Requirement already satisfied, skipping upgrade: cycler>=0.10 in /usr/local/lib/python3.6/dist-packages (from matplotlib) (0.10.0)\n",
            "Requirement already satisfied, skipping upgrade: pyparsing!=2.0.4,!=2.1.2,!=2.1.6,>=2.0.3 in /usr/local/lib/python3.6/dist-packages (from matplotlib) (2.4.7)\n",
            "Requirement already satisfied, skipping upgrade: kiwisolver>=1.0.1 in /usr/local/lib/python3.6/dist-packages (from matplotlib) (1.3.1)\n",
            "Requirement already satisfied, skipping upgrade: numpy>=1.15 in /usr/local/lib/python3.6/dist-packages (from matplotlib) (1.18.5)\n",
            "Requirement already satisfied, skipping upgrade: pillow>=6.2.0 in /usr/local/lib/python3.6/dist-packages (from matplotlib) (7.0.0)\n",
            "Requirement already satisfied, skipping upgrade: six>=1.5 in /usr/local/lib/python3.6/dist-packages (from python-dateutil>=2.1->matplotlib) (1.15.0)\n",
            "Requirement already satisfied: torch in /usr/local/lib/python3.6/dist-packages (1.7.0+cu101)\n",
            "Requirement already satisfied: torchvision in /usr/local/lib/python3.6/dist-packages (0.8.1+cu101)\n",
            "Requirement already satisfied: dataclasses in /usr/local/lib/python3.6/dist-packages (from torch) (0.8)\n",
            "Requirement already satisfied: typing-extensions in /usr/local/lib/python3.6/dist-packages (from torch) (3.7.4.3)\n",
            "Requirement already satisfied: future in /usr/local/lib/python3.6/dist-packages (from torch) (0.16.0)\n",
            "Requirement already satisfied: numpy in /usr/local/lib/python3.6/dist-packages (from torch) (1.18.5)\n",
            "Requirement already satisfied: pillow>=4.1.1 in /usr/local/lib/python3.6/dist-packages (from torchvision) (7.0.0)\n"
          ],
          "name": "stdout"
        }
      ]
    },
    {
      "cell_type": "markdown",
      "metadata": {
        "id": "Kglx48HtC3vT"
      },
      "source": [
        "# Create delayed decision task"
      ]
    },
    {
      "cell_type": "markdown",
      "metadata": {
        "id": "LMieWOxRf0oQ"
      },
      "source": [
        "This project's goal is to model human memory during a delayed decision task. To mimic the time delay for humans, the delay frame for each episode will be object-less."
      ]
    },
    {
      "cell_type": "code",
      "metadata": {
        "id": "wfz7LhfXh77j",
        "cellView": "form"
      },
      "source": [
        "#@title Delayed Decision Task in Array (Not Used)\n",
        "import numpy as np\n",
        "import random\n",
        "\n",
        "# grid room for computer: array\n",
        "## an object with random [shape, size, color]\n",
        "# robj = np.random.randint(0, 3, 3)\n",
        "\n",
        "# create empty room: a 4 by 4 grid with no object\n",
        "# will be used as empty delay frame\n",
        "blank = [[[None, None, None],[None, None, None],[None, None, None],[None, None, None]],\n",
        "         [[None, None, None],[None, None, None],[None, None, None],[None, None, None]],\n",
        "         [[None, None, None],[None, None, None],[None, None, None],[None, None, None]],\n",
        "         [[None, None, None],[None, None, None],[None, None, None],[None, None, None]]]\n",
        "\n",
        "## a random col + a random row in the room\n",
        "# tile = random.choice(random.choice(blank))\n",
        "\n",
        "# cue frame: a room with one random object\n",
        "robj_1 = np.random.randint(0, 3, 3) # object 1 in cue\n",
        "\n",
        "cue_shape = robj_1[0] # cue object's shape\n",
        "\n",
        "row = random.randint(0, 3)\n",
        "col = random.randint(0, 3)\n",
        "blank[row][col] = robj_1\n",
        "cue = blank # cue frame\n",
        "\n",
        "# reset blank\n",
        "blank = [[[None, None, None],[None, None, None],[None, None, None],[None, None, None]],\n",
        "         [[None, None, None],[None, None, None],[None, None, None],[None, None, None]],\n",
        "         [[None, None, None],[None, None, None],[None, None, None],[None, None, None]],\n",
        "         [[None, None, None],[None, None, None],[None, None, None],[None, None, None]]]\n",
        "\n",
        "# test frame: a room with two random objects\n",
        "robj_2 = np.random.randint(0, 3, 3) # object 1 in test\n",
        "robj_2[0] = cue_shape # same shape as cue object\n",
        "row = random.randint(0, 3)\n",
        "col = random.randint(0, 3)\n",
        "blank[row][col] = robj_2\n",
        "\n",
        "robj_3 = np.random.randint(0, 3, 3) # object 2 in test\n",
        "if robj_3[0] != cue_shape: # different shape from cue object\n",
        "    row = random.randint(0, 3)\n",
        "    col = random.randint(0, 3)\n",
        "    blank[row][col] = robj_3\n",
        "    test = blank # test frame\n",
        "\n",
        "# empty delay frame\n",
        "delay = [[[None, None, None],[None, None, None],[None, None, None],[None, None, None]],\n",
        "         [[None, None, None],[None, None, None],[None, None, None],[None, None, None]],\n",
        "         [[None, None, None],[None, None, None],[None, None, None],[None, None, None]],\n",
        "         [[None, None, None],[None, None, None],[None, None, None],[None, None, None]]]\n",
        "\n",
        "# expected CNN output: [shape,shape,shape]"
      ],
      "execution_count": null,
      "outputs": []
    },
    {
      "cell_type": "code",
      "metadata": {
        "colab": {
          "base_uri": "https://localhost:8080/",
          "height": 248
        },
        "id": "imRiFd8XEStf",
        "cellView": "form",
        "outputId": "3c9e098a-af03-4849-eaf3-91fb63f86018"
      },
      "source": [
        "#@title Delayed Decision Task: Delay Frame in Matplotlib\n",
        "\n",
        "import numpy as np\n",
        "import matplotlib.pyplot as plt\n",
        "import matplotlib.patches as mpatches\n",
        "\n",
        "# 4*4 grid = 16 tile\n",
        "tile_1 = plt.Rectangle((1, 1), width=1.9,height=1.9, color = 'lightgrey')\n",
        "tile_2 = plt.Rectangle((3, 1), width=1.9,height=1.9, color = 'lightgrey')\n",
        "tile_3 = plt.Rectangle((5, 1), width=1.9,height=1.9, color = 'lightgrey')\n",
        "tile_4 = plt.Rectangle((7, 1), width=1.9,height=1.9, color = 'lightgrey')\n",
        "tile_5 = plt.Rectangle((1, 3), width=1.9,height=1.9, color = 'lightgrey')\n",
        "tile_6 = plt.Rectangle((3, 3), width=1.9,height=1.9, color = 'lightgrey')\n",
        "tile_7 = plt.Rectangle((5, 3), width=1.9,height=1.9, color = 'lightgrey')\n",
        "tile_8 = plt.Rectangle((7, 3), width=1.9,height=1.9, color = 'lightgrey')\n",
        "tile_9 = plt.Rectangle((1, 5), width=1.9,height=1.9, color = 'lightgrey')\n",
        "tile_10 = plt.Rectangle((3, 5), width=1.9,height=1.9, color = 'lightgrey')\n",
        "tile_11 = plt.Rectangle((5, 5), width=1.9,height=1.9, color = 'lightgrey')\n",
        "tile_12 = plt.Rectangle((7, 5), width=1.9,height=1.9, color = 'lightgrey')\n",
        "tile_13 = plt.Rectangle((1, 7), width=1.9,height=1.9, color = 'lightgrey')\n",
        "tile_14 = plt.Rectangle((3, 7), width=1.9,height=1.9, color = 'lightgrey')\n",
        "tile_15 = plt.Rectangle((5, 7), width=1.9,height=1.9, color = 'lightgrey')\n",
        "tile_16 = plt.Rectangle((7, 7), width=1.9,height=1.9, color = 'lightgrey')\n",
        "\n",
        "test = plt.gca()\n",
        "test.add_patch(tile_1)\n",
        "test.add_patch(tile_2)\n",
        "test.add_patch(tile_3)\n",
        "test.add_patch(tile_4)\n",
        "test.add_patch(tile_5)\n",
        "test.add_patch(tile_6)\n",
        "test.add_patch(tile_7)\n",
        "test.add_patch(tile_8)\n",
        "test.add_patch(tile_9)\n",
        "test.add_patch(tile_10)\n",
        "test.add_patch(tile_11)\n",
        "test.add_patch(tile_12)\n",
        "test.add_patch(tile_13)\n",
        "test.add_patch(tile_14)\n",
        "test.add_patch(tile_15)\n",
        "test.add_patch(tile_16)\n",
        "\n",
        "plt.axis('scaled')\n",
        "plt.axis('off')\n",
        "plt.show()"
      ],
      "execution_count": 96,
      "outputs": [
        {
          "output_type": "display_data",
          "data": {
            "image/png": "[encoded data removed]",
            "text/plain": [
              "<Figure size 432x288 with 1 Axes>"
            ]
          },
          "metadata": {
            "tags": [],
            "needs_background": "light"
          }
        }
      ]
    },
    {
      "cell_type": "code",
      "metadata": {
        "colab": {
          "base_uri": "https://localhost:8080/",
          "height": 248
        },
        "id": "Pywd-jBpEMOR",
        "cellView": "form",
        "outputId": "a875fc39-60aa-4403-a286-b5225c791354"
      },
      "source": [
        "#@title Delayed Decision Task: Cue Frame in Matplotlib\n",
        "\n",
        "import random\n",
        "import numpy as np\n",
        "import matplotlib.pyplot as plt\n",
        "import matplotlib.patches as mpatches\n",
        "\n",
        "# 4*4 grid = 16 tile\n",
        "tile_1 = plt.Rectangle((1, 1), width=1.9,height=1.9, color = 'lightgrey')\n",
        "tile_2 = plt.Rectangle((3, 1), width=1.9,height=1.9, color = 'lightgrey')\n",
        "tile_3 = plt.Rectangle((5, 1), width=1.9,height=1.9, color = 'lightgrey')\n",
        "tile_4 = plt.Rectangle((7, 1), width=1.9,height=1.9, color = 'lightgrey')\n",
        "tile_5 = plt.Rectangle((1, 3), width=1.9,height=1.9, color = 'lightgrey')\n",
        "tile_6 = plt.Rectangle((3, 3), width=1.9,height=1.9, color = 'lightgrey')\n",
        "tile_7 = plt.Rectangle((5, 3), width=1.9,height=1.9, color = 'lightgrey')\n",
        "tile_8 = plt.Rectangle((7, 3), width=1.9,height=1.9, color = 'lightgrey')\n",
        "tile_9 = plt.Rectangle((1, 5), width=1.9,height=1.9, color = 'lightgrey')\n",
        "tile_10 = plt.Rectangle((3, 5), width=1.9,height=1.9, color = 'lightgrey')\n",
        "tile_11 = plt.Rectangle((5, 5), width=1.9,height=1.9, color = 'lightgrey')\n",
        "tile_12 = plt.Rectangle((7, 5), width=1.9,height=1.9, color = 'lightgrey')\n",
        "tile_13 = plt.Rectangle((1, 7), width=1.9,height=1.9, color = 'lightgrey')\n",
        "tile_14 = plt.Rectangle((3, 7), width=1.9,height=1.9, color = 'lightgrey')\n",
        "tile_15 = plt.Rectangle((5, 7), width=1.9,height=1.9, color = 'lightgrey')\n",
        "tile_16 = plt.Rectangle((7, 7), width=1.9,height=1.9, color = 'lightgrey')\n",
        "\n",
        "# list of object position\n",
        "square_x = [1.5, 3.5, 5.5, 7.5]\n",
        "square_y = [1.5, 3.5, 5.5, 7.5]\n",
        "triangle_x = [2, 4, 6, 8]\n",
        "triangle_y = [2, 4, 6, 8]\n",
        "circle_x = [2, 4, 6, 8]\n",
        "circle_y = [2, 4, 6, 8]\n",
        "\n",
        "# list of object color\n",
        "colors = ['tomato', 'limegreen', 'lightskyblue']\n",
        "\n",
        "# randomize sqaure's height and weight\n",
        "square_len = random.uniform(0.3, 1)\n",
        "\n",
        "# object with random radius\n",
        "square = plt.Rectangle((random.choice(square_x), random.choice(square_y)), width = square_len,height = square_len, color = random.choice(colors))\n",
        "triangle = mpatches.RegularPolygon((random.choice(triangle_x), random.choice(triangle_y)), 3, radius = random.uniform(0.3, 0.7), color = random.choice(colors))\n",
        "circle = plt.Circle((random.choice(circle_x), random.choice(circle_y)), radius = random.uniform(0.3, 0.7), color = random.choice(colors))\n",
        "\n",
        "cue = plt.gca()\n",
        "cue.add_patch(tile_1)\n",
        "cue.add_patch(tile_2)\n",
        "cue.add_patch(tile_3)\n",
        "cue.add_patch(tile_4)\n",
        "cue.add_patch(tile_5)\n",
        "cue.add_patch(tile_6)\n",
        "cue.add_patch(tile_7)\n",
        "cue.add_patch(tile_8)\n",
        "cue.add_patch(tile_9)\n",
        "cue.add_patch(tile_10)\n",
        "cue.add_patch(tile_11)\n",
        "cue.add_patch(tile_12)\n",
        "cue.add_patch(tile_13)\n",
        "cue.add_patch(tile_14)\n",
        "cue.add_patch(tile_15)\n",
        "cue.add_patch(tile_16)\n",
        "\n",
        "# randomly select one object\n",
        "cue_objects = [square, circle, triangle]\n",
        "cue_object = random.choice(cue_objects)\n",
        "\n",
        "cue.add_patch(cue_object)\n",
        "\n",
        "plt.axis('scaled')\n",
        "plt.axis('off')\n",
        "plt.show()"
      ],
      "execution_count": 465,
      "outputs": [
        {
          "output_type": "display_data",
          "data": {
            "image/png": "[encoded data removed]",
            "text/plain": [
              "<Figure size 432x288 with 1 Axes>"
            ]
          },
          "metadata": {
            "tags": [],
            "needs_background": "light"
          }
        }
      ]
    },
    {
      "cell_type": "code",
      "metadata": {
        "id": "c1A_Ta_sEQO0",
        "colab": {
          "base_uri": "https://localhost:8080/",
          "height": 248
        },
        "cellView": "form",
        "outputId": "2bea4fc4-6f09-4beb-d6a8-74c5de9cf331"
      },
      "source": [
        "#@title Delayed Decision Task: Test Frame in Matplotlib\n",
        "\n",
        "import random\n",
        "import numpy as np\n",
        "import matplotlib.pyplot as plt\n",
        "import matplotlib.patches as mpatches\n",
        "\n",
        "# 4*4 grid = 16 tile\n",
        "tile_1 = plt.Rectangle((1, 1), width=1.9,height=1.9, color = 'lightgrey')\n",
        "tile_2 = plt.Rectangle((3, 1), width=1.9,height=1.9, color = 'lightgrey')\n",
        "tile_3 = plt.Rectangle((5, 1), width=1.9,height=1.9, color = 'lightgrey')\n",
        "tile_4 = plt.Rectangle((7, 1), width=1.9,height=1.9, color = 'lightgrey')\n",
        "tile_5 = plt.Rectangle((1, 3), width=1.9,height=1.9, color = 'lightgrey')\n",
        "tile_6 = plt.Rectangle((3, 3), width=1.9,height=1.9, color = 'lightgrey')\n",
        "tile_7 = plt.Rectangle((5, 3), width=1.9,height=1.9, color = 'lightgrey')\n",
        "tile_8 = plt.Rectangle((7, 3), width=1.9,height=1.9, color = 'lightgrey')\n",
        "tile_9 = plt.Rectangle((1, 5), width=1.9,height=1.9, color = 'lightgrey')\n",
        "tile_10 = plt.Rectangle((3, 5), width=1.9,height=1.9, color = 'lightgrey')\n",
        "tile_11 = plt.Rectangle((5, 5), width=1.9,height=1.9, color = 'lightgrey')\n",
        "tile_12 = plt.Rectangle((7, 5), width=1.9,height=1.9, color = 'lightgrey')\n",
        "tile_13 = plt.Rectangle((1, 7), width=1.9,height=1.9, color = 'lightgrey')\n",
        "tile_14 = plt.Rectangle((3, 7), width=1.9,height=1.9, color = 'lightgrey')\n",
        "tile_15 = plt.Rectangle((5, 7), width=1.9,height=1.9, color = 'lightgrey')\n",
        "tile_16 = plt.Rectangle((7, 7), width=1.9,height=1.9, color = 'lightgrey')\n",
        "\n",
        "# list of object position\n",
        "square_x = [1.5, 3.5, 5.5, 7.5]\n",
        "square_y = [1.5, 3.5, 5.5, 7.5]\n",
        "triangle_x = [2, 4, 6, 8]\n",
        "triangle_y = [2, 4, 6, 8]\n",
        "circle_x = [2, 4, 6, 8]\n",
        "circle_y = [2, 4, 6, 8]\n",
        "\n",
        "# list of object color\n",
        "colors = ['tomato', 'limegreen', 'lightskyblue']\n",
        "\n",
        "# randomize sqaure's height and weight\n",
        "square_len = random.uniform(0.3, 1)\n",
        "\n",
        "# object with random radius\n",
        "square = plt.Rectangle((random.choice(square_x), random.choice(square_y)), width = square_len,height = square_len, color = random.choice(colors))\n",
        "triangle = mpatches.RegularPolygon((random.choice(triangle_x), random.choice(triangle_y)), 3, radius = random.uniform(0.3, 0.7), color = random.choice(colors))\n",
        "circle = plt.Circle((random.choice(circle_x), random.choice(circle_y)), radius = random.uniform(0.3, 0.7), color = random.choice(colors))\n",
        "\n",
        "test = plt.gca()\n",
        "test.add_patch(tile_1)\n",
        "test.add_patch(tile_2)\n",
        "test.add_patch(tile_3)\n",
        "test.add_patch(tile_4)\n",
        "test.add_patch(tile_5)\n",
        "test.add_patch(tile_6)\n",
        "test.add_patch(tile_7)\n",
        "test.add_patch(tile_8)\n",
        "test.add_patch(tile_9)\n",
        "test.add_patch(tile_10)\n",
        "test.add_patch(tile_11)\n",
        "test.add_patch(tile_12)\n",
        "test.add_patch(tile_13)\n",
        "test.add_patch(tile_14)\n",
        "test.add_patch(tile_15)\n",
        "test.add_patch(tile_16)\n",
        "\n",
        "# randomly select two object\n",
        "while True:\n",
        "  square = plt.Rectangle((random.choice(square_x), random.choice(square_y)), width = square_len,height = square_len, color = random.choice(colors))\n",
        "  triangle = mpatches.RegularPolygon((random.choice(triangle_x), random.choice(triangle_y)), 3, radius = random.uniform(0.3, 0.7), color = random.choice(colors))\n",
        "  circle = plt.Circle((random.choice(circle_x), random.choice(circle_y)), radius = random.uniform(0.3, 0.7), color = random.choice(colors))\n",
        "  test_objects = [square, circle, triangle]\n",
        "  t_objects = random.sample(test_objects, 2)\n",
        "  if type(t_objects[0]) == type(cue_object) or type(t_objects[1]) == type(cue_object) and type(t_objects[0]) != type(t_objects[1]): # if one and only one testing object match with cue object\n",
        "    for index, obj in enumerate(t_objects):\n",
        "      test.add_patch(t_objects[index])\n",
        "    break\n",
        "\n",
        "plt.axis('scaled')\n",
        "plt.axis('off')\n",
        "plt.show()"
      ],
      "execution_count": 471,
      "outputs": [
        {
          "output_type": "display_data",
          "data": {
            "image/png": "[encoded data removed]",
            "text/plain": [
              "<Figure size 432x288 with 1 Axes>"
            ]
          },
          "metadata": {
            "tags": [],
            "needs_background": "light"
          }
        }
      ]
    },
    {
      "cell_type": "markdown",
      "metadata": {
        "id": "DvOBwk7ED9hI"
      },
      "source": [
        "# Define neural network model"
      ]
    },
    {
      "cell_type": "code",
      "metadata": {
        "id": "zGG5JuMbsYgz"
      },
      "source": [
        "#cue\n",
        "\n",
        "#delay\n",
        "\n",
        "random.random_integers(1,10) #max length: 10\n",
        "random.random_integers(1,20) #max length: 20\n",
        "random.random_integers(1,30) #max length: 30\n",
        "\n",
        "#test"
      ],
      "execution_count": null,
      "outputs": []
    },
    {
      "cell_type": "code",
      "metadata": {
        "colab": {
          "base_uri": "https://localhost:8080/"
        },
        "id": "ll4Wdfrpw8KH",
        "outputId": "b9d15758-4c71-4195-ebc0-16a585757b98"
      },
      "source": [
        "import random\n",
        "\n",
        "random.seed(10)\n",
        "print(random.random())\n",
        "\n",
        "random.seed(10)\n",
        "print(random.random())"
      ],
      "execution_count": null,
      "outputs": [
        {
          "output_type": "stream",
          "text": [
            "0.5714025946899135\n",
            "0.5714025946899135\n"
          ],
          "name": "stdout"
        }
      ]
    },
    {
      "cell_type": "code",
      "metadata": {
        "id": "hthp7PW1Po80"
      },
      "source": [
        "# training\n",
        "# idx_to_object \n",
        "0 = circle\n",
        "1 = square\n",
        "2 = triangle\n",
        "\n",
        "# CNN output [circle, square, triangle]\n",
        "if circle [1, 0, 0]\n",
        "if square [0, 1, 0]\n",
        "if triangle [0, 0, 1]\n",
        "\n",
        "1 + n frame"
      ],
      "execution_count": null,
      "outputs": []
    },
    {
      "cell_type": "code",
      "metadata": {
        "colab": {
          "base_uri": "https://localhost:8080/",
          "height": 229
        },
        "id": "Mwe6CT_oGvto",
        "outputId": "dce215bd-c323-48d6-eac9-752b900b3c58"
      },
      "source": [
        "import pandas as pd\n",
        "import numpy as np\n",
        "import cv2\n",
        "import warnings\n",
        "warnings.filterwarnings(\"ignore\")\n",
        "import os\n",
        "\n",
        "dir = os.listdir('/content/drive/My Drive/MiniGrid/Train')\n",
        "\n",
        "for image in dir:\n",
        "  path = \"/content/drive/My Drive/MiniGrid/Train\" + image\n",
        "  image_cv = cv2.imread(path)\n",
        "  image_array = np.array(image_cv)\n",
        "  np.append(image_array)"
      ],
      "execution_count": 472,
      "outputs": [
        {
          "output_type": "error",
          "ename": "TypeError",
          "evalue": "ignored",
          "traceback": [
            "\u001b[0;31m---------------------------------------------------------------------------\u001b[0m",
            "\u001b[0;31mTypeError\u001b[0m                                 Traceback (most recent call last)",
            "\u001b[0;32m<ipython-input-472-dd18d861ae93>\u001b[0m in \u001b[0;36m<module>\u001b[0;34m()\u001b[0m\n\u001b[1;32m     12\u001b[0m   \u001b[0mimage_cv\u001b[0m \u001b[0;34m=\u001b[0m \u001b[0mcv2\u001b[0m\u001b[0;34m.\u001b[0m\u001b[0mimread\u001b[0m\u001b[0;34m(\u001b[0m\u001b[0mpath\u001b[0m\u001b[0;34m)\u001b[0m\u001b[0;34m\u001b[0m\u001b[0;34m\u001b[0m\u001b[0m\n\u001b[1;32m     13\u001b[0m   \u001b[0mimage_array\u001b[0m \u001b[0;34m=\u001b[0m \u001b[0mnp\u001b[0m\u001b[0;34m.\u001b[0m\u001b[0marray\u001b[0m\u001b[0;34m(\u001b[0m\u001b[0mimage_cv\u001b[0m\u001b[0;34m)\u001b[0m\u001b[0;34m\u001b[0m\u001b[0;34m\u001b[0m\u001b[0m\n\u001b[0;32m---> 14\u001b[0;31m   \u001b[0mnp\u001b[0m\u001b[0;34m.\u001b[0m\u001b[0mappend\u001b[0m\u001b[0;34m(\u001b[0m\u001b[0mimage_array\u001b[0m\u001b[0;34m)\u001b[0m\u001b[0;34m\u001b[0m\u001b[0;34m\u001b[0m\u001b[0m\n\u001b[0m",
            "\u001b[0;32m<__array_function__ internals>\u001b[0m in \u001b[0;36mappend\u001b[0;34m(*args, **kwargs)\u001b[0m\n",
            "\u001b[0;31mTypeError\u001b[0m: _append_dispatcher() missing 1 required positional argument: 'values'"
          ]
        }
      ]
    },
    {
      "cell_type": "markdown",
      "metadata": {
        "id": "j0M1hqTwiG8d"
      },
      "source": [
        "Code adapted from https://github.com/lcswillems/rl-starter-files/blob/master/model.py"
      ]
    },
    {
      "cell_type": "code",
      "metadata": {
        "id": "cBkDgQJfN02Y",
        "colab": {
          "base_uri": "https://localhost:8080/",
          "height": 130
        },
        "outputId": "3ec7acb8-9dff-429a-902b-15f25adee3d8"
      },
      "source": [
        "import torch\n",
        "import torch.nn as nn\n",
        "\n",
        "# define NN model\n",
        "\n",
        "class model(nn.Module):\n",
        "    def __init__(self):\n",
        "        \n",
        "        # define image embedding: (conv+relu+maxpool)*3\n",
        "        # array: 4*4*3 = 48\n",
        "        self.conv = nn.Sequential(\n",
        "            nn.Conv2d(3, 16, (2, 2)), # conv-1\n",
        "            nn.ReLU(),\n",
        "            nn.MaxPool2d((2, 2)),\n",
        "            nn.Conv2d(16, 32, (2, 2)), # conv-2\n",
        "            nn.ReLU(),\n",
        "            nn.MaxPool2d((2, 2)),\n",
        "            nn.Conv2d(32, 64, (2, 2)), # conv-3\n",
        "            nn.ReLU(),\n",
        "            nn.MaxPool2d((2, 2)),\n",
        "            nn.Flatten(), # connect CNN output with LSTM for each frame\n",
        "            nn.LSTM(),\n",
        "            nn.Flatten(), # connect LSTM output with loss function for each frame\n",
        "            nn.CrossEntropyLoss\n",
        "        )\n",
        "        n = obs_space[\"image\"][0]\n",
        "        m = obs_space[\"image\"][1]\n",
        "        self.image_embedding_size = ((n-1)//2-2)*((m-1)//2-2)*64\n",
        "        \n",
        "\n",
        "        # Connect CNN output with LSTM for each frame\n",
        "        self.lstm = nn.LSTMCell(self.image_embedding_size, self.semi_memory_size)\n",
        "        \n",
        "        # Flatten LSTM output\n",
        "        flatten = torch.flatten(self.lstm)\n",
        "\n",
        "        # Loss function\n",
        "        target = #prob = 1\n",
        "        output = nn.CrossEntropyLoss(flatten, #target eg., int 10#)"
      ],
      "execution_count": null,
      "outputs": [
        {
          "output_type": "error",
          "ename": "SyntaxError",
          "evalue": "ignored",
          "traceback": [
            "\u001b[0;36m  File \u001b[0;32m\"<ipython-input-38-1d0028143253>\"\u001b[0;36m, line \u001b[0;32m33\u001b[0m\n\u001b[0;31m    target = #prob = 1\u001b[0m\n\u001b[0m                      ^\u001b[0m\n\u001b[0;31mSyntaxError\u001b[0m\u001b[0;31m:\u001b[0m invalid syntax\n"
          ]
        }
      ]
    },
    {
      "cell_type": "markdown",
      "metadata": {
        "id": "iSDtSjFYKlYZ"
      },
      "source": [
        "#Testing"
      ]
    },
    {
      "cell_type": "code",
      "metadata": {
        "colab": {
          "base_uri": "https://localhost:8080/"
        },
        "id": "KVdPQML4Kyvp",
        "outputId": "f129952a-f8b9-4bc4-ccad-194cfd75a6f4"
      },
      "source": [
        "loss = nn.CrossEntropyLoss()\n",
        "input = torch.randn(3, 5, requires_grad=True)\n",
        "target = torch.empty(3, dtype=torch.long).random_(5)\n",
        "print(target)\n",
        "output = loss(input, target)\n",
        "print(output)\n",
        "output.backward()"
      ],
      "execution_count": null,
      "outputs": [
        {
          "output_type": "stream",
          "text": [
            "tensor([2, 1, 1])\n",
            "tensor(1.6694, grad_fn=<NllLossBackward>)\n"
          ],
          "name": "stdout"
        }
      ]
    },
    {
      "cell_type": "code",
      "metadata": {
        "colab": {
          "base_uri": "https://localhost:8080/"
        },
        "id": "er0BeyB4o7Ev",
        "outputId": "2b012c5d-829b-449b-bc8b-f1392a2575db"
      },
      "source": [
        "!git clone https://github.com/lcswillems/rl-starter-files.git"
      ],
      "execution_count": null,
      "outputs": [
        {
          "output_type": "stream",
          "text": [
            "fatal: destination path 'rl-starter-files' already exists and is not an empty directory.\n"
          ],
          "name": "stdout"
        }
      ]
    },
    {
      "cell_type": "code",
      "metadata": {
        "colab": {
          "base_uri": "https://localhost:8080/"
        },
        "id": "P0yxxXcgpVAl",
        "outputId": "a2a90813-5f27-4c41-aa12-3aa133624090"
      },
      "source": [
        "%cd rl-starter-files"
      ],
      "execution_count": null,
      "outputs": [
        {
          "output_type": "stream",
          "text": [
            "/content/rl-starter-files\n"
          ],
          "name": "stdout"
        }
      ]
    },
    {
      "cell_type": "code",
      "metadata": {
        "colab": {
          "base_uri": "https://localhost:8080/"
        },
        "id": "PmlnsXotpg1m",
        "outputId": "e3ac9072-8c86-4335-ca81-b9f25649ae8b"
      },
      "source": [
        "!pip3 install -r requirements.txt"
      ],
      "execution_count": null,
      "outputs": [
        {
          "output_type": "stream",
          "text": [
            "Collecting torch-ac>=1.1.0\n",
            "  Downloading https://files.pythonhosted.org/packages/dc/da/d51e0806f8a1a07018550eb51e7a7ef7428f3a7d0d8b9dfb8b2b0037b8df/torch_ac-1.1.0-py3-none-any.whl\n",
            "Collecting gym-minigrid\n",
            "\u001b[?25l  Downloading https://files.pythonhosted.org/packages/cd/57/15171eff6222dd012cc89c001f5c50ad9e11b8cef385873db3b4c0d89aff/gym_minigrid-1.0.1-py3-none-any.whl (47kB)\n",
            "\u001b[K     |████████████████████████████████| 51kB 2.9MB/s \n",
            "\u001b[?25hCollecting tensorboardX>=1.6\n",
            "\u001b[?25l  Downloading https://files.pythonhosted.org/packages/af/0c/4f41bcd45db376e6fe5c619c01100e9b7531c55791b7244815bac6eac32c/tensorboardX-2.1-py2.py3-none-any.whl (308kB)\n",
            "\u001b[K     |████████████████████████████████| 317kB 7.3MB/s \n",
            "\u001b[?25hRequirement already satisfied: numpy>=1.3 in /usr/local/lib/python3.6/dist-packages (from -r requirements.txt (line 4)) (1.18.5)\n",
            "Requirement already satisfied: torch>=1.0.0 in /usr/local/lib/python3.6/dist-packages (from torch-ac>=1.1.0->-r requirements.txt (line 1)) (1.7.0+cu101)\n",
            "Requirement already satisfied: gym>=0.9.6 in /usr/local/lib/python3.6/dist-packages (from gym-minigrid->-r requirements.txt (line 2)) (0.17.3)\n",
            "Requirement already satisfied: protobuf>=3.8.0 in /usr/local/lib/python3.6/dist-packages (from tensorboardX>=1.6->-r requirements.txt (line 3)) (3.12.4)\n",
            "Requirement already satisfied: six in /usr/local/lib/python3.6/dist-packages (from tensorboardX>=1.6->-r requirements.txt (line 3)) (1.15.0)\n",
            "Requirement already satisfied: dataclasses in /usr/local/lib/python3.6/dist-packages (from torch>=1.0.0->torch-ac>=1.1.0->-r requirements.txt (line 1)) (0.8)\n",
            "Requirement already satisfied: future in /usr/local/lib/python3.6/dist-packages (from torch>=1.0.0->torch-ac>=1.1.0->-r requirements.txt (line 1)) (0.16.0)\n",
            "Requirement already satisfied: typing-extensions in /usr/local/lib/python3.6/dist-packages (from torch>=1.0.0->torch-ac>=1.1.0->-r requirements.txt (line 1)) (3.7.4.3)\n",
            "Requirement already satisfied: pyglet<=1.5.0,>=1.4.0 in /usr/local/lib/python3.6/dist-packages (from gym>=0.9.6->gym-minigrid->-r requirements.txt (line 2)) (1.5.0)\n",
            "Requirement already satisfied: scipy in /usr/local/lib/python3.6/dist-packages (from gym>=0.9.6->gym-minigrid->-r requirements.txt (line 2)) (1.4.1)\n",
            "Requirement already satisfied: cloudpickle<1.7.0,>=1.2.0 in /usr/local/lib/python3.6/dist-packages (from gym>=0.9.6->gym-minigrid->-r requirements.txt (line 2)) (1.3.0)\n",
            "Requirement already satisfied: setuptools in /usr/local/lib/python3.6/dist-packages (from protobuf>=3.8.0->tensorboardX>=1.6->-r requirements.txt (line 3)) (50.3.2)\n",
            "Installing collected packages: torch-ac, gym-minigrid, tensorboardX\n",
            "Successfully installed gym-minigrid-1.0.1 tensorboardX-2.1 torch-ac-1.1.0\n"
          ],
          "name": "stdout"
        }
      ]
    },
    {
      "cell_type": "code",
      "metadata": {
        "colab": {
          "base_uri": "https://localhost:8080/"
        },
        "id": "8E2nPahLpql9",
        "outputId": "9077de64-ac72-43a4-d986-df3e40bf42eb"
      },
      "source": [
        "!python3 -m scripts.train --algo ppo --env MiniGrid-Empty-6x6-v0 --model Memory --save-interval 10 --frames 10"
      ],
      "execution_count": null,
      "outputs": [
        {
          "output_type": "stream",
          "text": [
            "/content/rl-starter-files/scripts/train.py --algo ppo --env MiniGrid-Empty-6x6-v0 --model Memory --save-interval 10 --frames 10\n",
            "\n",
            "Namespace(algo='ppo', batch_size=256, clip_eps=0.2, discount=0.99, entropy_coef=0.01, env='MiniGrid-Empty-6x6-v0', epochs=4, frames=10, frames_per_proc=None, gae_lambda=0.95, log_interval=1, lr=0.001, max_grad_norm=0.5, mem=False, model='Memory', optim_alpha=0.99, optim_eps=1e-08, procs=16, recurrence=1, save_interval=10, seed=1, text=False, value_loss_coef=0.5)\n",
            "\n",
            "Device: cpu\n",
            "\n",
            "Environments loaded\n",
            "\n",
            "Training status loaded\n",
            "\n",
            "Observations preprocessor loaded\n",
            "Model loaded\n",
            "\n",
            "ACModel(\n",
            "  (image_conv): Sequential(\n",
            "    (0): Conv2d(3, 16, kernel_size=(2, 2), stride=(1, 1))\n",
            "    (1): ReLU()\n",
            "    (2): MaxPool2d(kernel_size=(2, 2), stride=(2, 2), padding=0, dilation=1, ceil_mode=False)\n",
            "    (3): Conv2d(16, 32, kernel_size=(2, 2), stride=(1, 1))\n",
            "    (4): ReLU()\n",
            "    (5): Conv2d(32, 64, kernel_size=(2, 2), stride=(1, 1))\n",
            "    (6): ReLU()\n",
            "  )\n",
            "  (actor): Sequential(\n",
            "    (0): Linear(in_features=64, out_features=64, bias=True)\n",
            "    (1): Tanh()\n",
            "    (2): Linear(in_features=64, out_features=7, bias=True)\n",
            "  )\n",
            "  (critic): Sequential(\n",
            "    (0): Linear(in_features=64, out_features=64, bias=True)\n",
            "    (1): Tanh()\n",
            "    (2): Linear(in_features=64, out_features=1, bias=True)\n",
            "  )\n",
            ")\n",
            "\n",
            "Optimizer loaded\n",
            "\n",
            "U 1 | F 002048 | FPS 0621 | D 3 | rR:μσmM 0.14 0.26 0.00 0.80 | F:μσmM 18.0 36.1 0.0 115.0 | H 1.890 | V -0.158 | pL -0.057 | vL 0.009 | ∇ 0.075\n"
          ],
          "name": "stdout"
        }
      ]
    },
    {
      "cell_type": "code",
      "metadata": {
        "colab": {
          "base_uri": "https://localhost:8080/"
        },
        "id": "V0nAgXmd43ET",
        "outputId": "2759ab5d-3a31-4614-a955-86d0b4c3c7d9"
      },
      "source": [
        "!python3 -m scripts.train --algo ppo --env MiniGrid-Empty-6x6-v0 --model Memory --save-interval 10 --frames 20"
      ],
      "execution_count": null,
      "outputs": [
        {
          "output_type": "stream",
          "text": [
            "/content/rl-starter-files/scripts/train.py --algo ppo --env MiniGrid-Empty-6x6-v0 --model Memory --save-interval 10 --frames 20\n",
            "\n",
            "Namespace(algo='ppo', batch_size=256, clip_eps=0.2, discount=0.99, entropy_coef=0.01, env='MiniGrid-Empty-6x6-v0', epochs=4, frames=20, frames_per_proc=None, gae_lambda=0.95, log_interval=1, lr=0.001, max_grad_norm=0.5, mem=False, model='Memory', optim_alpha=0.99, optim_eps=1e-08, procs=16, recurrence=1, save_interval=10, seed=1, text=False, value_loss_coef=0.5)\n",
            "\n",
            "Device: cpu\n",
            "\n",
            "Environments loaded\n",
            "\n",
            "Training status loaded\n",
            "\n",
            "Observations preprocessor loaded\n",
            "Model loaded\n",
            "\n",
            "ACModel(\n",
            "  (image_conv): Sequential(\n",
            "    (0): Conv2d(3, 16, kernel_size=(2, 2), stride=(1, 1))\n",
            "    (1): ReLU()\n",
            "    (2): MaxPool2d(kernel_size=(2, 2), stride=(2, 2), padding=0, dilation=1, ceil_mode=False)\n",
            "    (3): Conv2d(16, 32, kernel_size=(2, 2), stride=(1, 1))\n",
            "    (4): ReLU()\n",
            "    (5): Conv2d(32, 64, kernel_size=(2, 2), stride=(1, 1))\n",
            "    (6): ReLU()\n",
            "  )\n",
            "  (actor): Sequential(\n",
            "    (0): Linear(in_features=64, out_features=64, bias=True)\n",
            "    (1): Tanh()\n",
            "    (2): Linear(in_features=64, out_features=7, bias=True)\n",
            "  )\n",
            "  (critic): Sequential(\n",
            "    (0): Linear(in_features=64, out_features=64, bias=True)\n",
            "    (1): Tanh()\n",
            "    (2): Linear(in_features=64, out_features=1, bias=True)\n",
            "  )\n",
            ")\n",
            "\n",
            "Optimizer loaded\n",
            "\n",
            "U 1 | F 002048 | FPS 1085 | D 1 | rR:μσmM 0.14 0.26 0.00 0.80 | F:μσmM 18.0 36.1 0.0 115.0 | H 1.890 | V -0.158 | pL -0.057 | vL 0.009 | ∇ 0.075\n"
          ],
          "name": "stdout"
        }
      ]
    },
    {
      "cell_type": "code",
      "metadata": {
        "colab": {
          "base_uri": "https://localhost:8080/"
        },
        "id": "mtD19gUX45xQ",
        "outputId": "d580569f-19fc-4572-e5e5-08d4e59c8eb5"
      },
      "source": [
        "!python3 -m scripts.train --algo ppo --env MiniGrid-Empty-6x6-v0 --model Memory --save-interval 10 --frames 30"
      ],
      "execution_count": null,
      "outputs": [
        {
          "output_type": "stream",
          "text": [
            "/content/rl-starter-files/scripts/train.py --algo ppo --env MiniGrid-Empty-6x6-v0 --model Memory --save-interval 10 --frames 30\n",
            "\n",
            "Namespace(algo='ppo', batch_size=256, clip_eps=0.2, discount=0.99, entropy_coef=0.01, env='MiniGrid-Empty-6x6-v0', epochs=4, frames=30, frames_per_proc=None, gae_lambda=0.95, log_interval=1, lr=0.001, max_grad_norm=0.5, mem=False, model='Memory', optim_alpha=0.99, optim_eps=1e-08, procs=16, recurrence=1, save_interval=10, seed=1, text=False, value_loss_coef=0.5)\n",
            "\n",
            "Device: cpu\n",
            "\n",
            "Environments loaded\n",
            "\n",
            "Training status loaded\n",
            "\n",
            "Observations preprocessor loaded\n",
            "Model loaded\n",
            "\n",
            "ACModel(\n",
            "  (image_conv): Sequential(\n",
            "    (0): Conv2d(3, 16, kernel_size=(2, 2), stride=(1, 1))\n",
            "    (1): ReLU()\n",
            "    (2): MaxPool2d(kernel_size=(2, 2), stride=(2, 2), padding=0, dilation=1, ceil_mode=False)\n",
            "    (3): Conv2d(16, 32, kernel_size=(2, 2), stride=(1, 1))\n",
            "    (4): ReLU()\n",
            "    (5): Conv2d(32, 64, kernel_size=(2, 2), stride=(1, 1))\n",
            "    (6): ReLU()\n",
            "  )\n",
            "  (actor): Sequential(\n",
            "    (0): Linear(in_features=64, out_features=64, bias=True)\n",
            "    (1): Tanh()\n",
            "    (2): Linear(in_features=64, out_features=7, bias=True)\n",
            "  )\n",
            "  (critic): Sequential(\n",
            "    (0): Linear(in_features=64, out_features=64, bias=True)\n",
            "    (1): Tanh()\n",
            "    (2): Linear(in_features=64, out_features=1, bias=True)\n",
            "  )\n",
            ")\n",
            "\n",
            "Optimizer loaded\n",
            "\n",
            "U 1 | F 002048 | FPS 1207 | D 1 | rR:μσmM 0.14 0.26 0.00 0.80 | F:μσmM 18.0 36.1 0.0 115.0 | H 1.890 | V -0.158 | pL -0.057 | vL 0.009 | ∇ 0.075\n"
          ],
          "name": "stdout"
        }
      ]
    },
    {
      "cell_type": "markdown",
      "metadata": {
        "id": "N974m-wUV3ah"
      },
      "source": [
        "![i-really-tried.jpg](data:image/jpeg;base64,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)"
      ]
    }
  ]
}